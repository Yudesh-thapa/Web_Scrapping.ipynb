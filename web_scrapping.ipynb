{
  "nbformat": 4,
  "nbformat_minor": 0,
  "metadata": {
    "colab": {
      "provenance": [],
      "authorship_tag": "ABX9TyNxMRF8MNkXlNzHgAl/kjuq",
      "include_colab_link": true
    },
    "kernelspec": {
      "name": "python3",
      "display_name": "Python 3"
    },
    "language_info": {
      "name": "python"
    }
  },
  "cells": [
    {
      "cell_type": "markdown",
      "metadata": {
        "id": "view-in-github",
        "colab_type": "text"
      },
      "source": [
        "<a href=\"https://colab.research.google.com/github/Yudesh-thapa/Web_Scrapping.ipynb/blob/main/web_scrapping.ipynb\" target=\"_parent\"><img src=\"https://colab.research.google.com/assets/colab-badge.svg\" alt=\"Open In Colab\"/></a>"
      ]
    },
    {
      "cell_type": "code",
      "source": [
        "url = \"https://books.toscrape.com/\"\n"
      ],
      "metadata": {
        "id": "RvjG6bkW8tIk"
      },
      "execution_count": null,
      "outputs": []
    },
    {
      "cell_type": "code",
      "source": [
        "from bs4 import BeautifulSoup\n",
        "import requests\n",
        "import pandas as pd\n",
        "import re\n",
        "\n",
        "def get_soup(url):\n",
        "    response = requests.get(url)\n",
        "    if response.status_code == 200:\n",
        "        return BeautifulSoup(response.text, 'html.parser')\n",
        "    else:\n",
        "        print(\"Failed to fetch page\")\n",
        "        return None\n",
        "\n",
        "def get_details(book_tag):\n",
        "    title = book_tag.h3.a['title']\n",
        "    rating = book_tag.find('p', class_='star-rating')['class'][1]\n",
        "    price = book_tag.find('p', class_='price_color').text\n",
        "    link = book_tag.h3.a['href']\n",
        "    return {'title': title, 'rating': rating, 'price': price, 'link': link}\n",
        "\n",
        "def get_books(url):\n",
        "    soup = get_soup(url)\n",
        "    if soup:\n",
        "        book_tags = soup.find_all('article', class_='product_pod')\n",
        "        books = [get_details(book_tag) for book_tag in book_tags]\n",
        "        return books\n",
        "    else:\n",
        "        return []\n",
        "\n",
        "def data(page=3):\n",
        "    books = []\n",
        "    for i in range(1, page + 1):\n",
        "        url = f\"https://books.toscrape.com/catalogue/page-{i}.html\"\n",
        "        books += get_books(url)\n",
        "\n",
        "    return pd.DataFrame(books, columns=['title', 'rating', 'price', 'link'])\n",
        "\n",
        "df = data()\n",
        "\n",
        "# Findind heading before\n",
        "heading_before_table = df.columns.tolist()\n",
        "print(\"Heading before table:\", heading_before_table)\n",
        "\n",
        "# Output\n",
        "print(df.head())\n"
      ],
      "metadata": {
        "colab": {
          "base_uri": "https://localhost:8080/"
        },
        "id": "D5ay-LavBvgK",
        "outputId": "94ffcef3-c1d3-4ab7-dadd-0ea1254808de"
      },
      "execution_count": null,
      "outputs": [
        {
          "output_type": "stream",
          "name": "stdout",
          "text": [
            "Heading before table: ['title', 'rating', 'price', 'link']\n",
            "                                   title rating    price  \\\n",
            "0                   A Light in the Attic  Three  Â£51.77   \n",
            "1                     Tipping the Velvet    One  Â£53.74   \n",
            "2                             Soumission    One  Â£50.10   \n",
            "3                          Sharp Objects   Four  Â£47.82   \n",
            "4  Sapiens: A Brief History of Humankind   Five  Â£54.23   \n",
            "\n",
            "                                                link  \n",
            "0               a-light-in-the-attic_1000/index.html  \n",
            "1                  tipping-the-velvet_999/index.html  \n",
            "2                          soumission_998/index.html  \n",
            "3                       sharp-objects_997/index.html  \n",
            "4  sapiens-a-brief-history-of-humankind_996/index...  \n"
          ]
        }
      ]
    }
  ]
}